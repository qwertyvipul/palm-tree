{
 "cells": [
  {
   "cell_type": "code",
   "execution_count": 3,
   "metadata": {
    "collapsed": true
   },
   "outputs": [],
   "source": [
    "from sklearn.feature_extraction.text import TfidfVectorizer, CountVectorizer\n",
    "from sklearn.decomposition import NMF, LatentDirichletAllocation"
   ]
  },
  {
   "cell_type": "code",
   "execution_count": 32,
   "metadata": {
    "collapsed": true
   },
   "outputs": [],
   "source": [
    "corpus = [\n",
    "    \"movies are a great way to pass your time\",\n",
    "    \"but there are other ways to pass ones time\",\n",
    "    \"i also like games like cricket and football\",\n",
    "    \"cricket is very famous in india and australia\",\n",
    "    \"america is also known for hollywood movies\"\n",
    "]"
   ]
  },
  {
   "cell_type": "code",
   "execution_count": 4,
   "metadata": {},
   "outputs": [],
   "source": [
    "tfidf_vectorizer = TfidfVectorizer(stop_words='english')"
   ]
  },
  {
   "cell_type": "code",
   "execution_count": 33,
   "metadata": {},
   "outputs": [],
   "source": [
    "tfidf = tfidf_vectorizer.fit_transform(corpus)"
   ]
  },
  {
   "cell_type": "code",
   "execution_count": 34,
   "metadata": {},
   "outputs": [
    {
     "data": {
      "text/plain": [
       "['america',\n",
       " 'australia',\n",
       " 'cricket',\n",
       " 'famous',\n",
       " 'football',\n",
       " 'games',\n",
       " 'great',\n",
       " 'hollywood',\n",
       " 'india',\n",
       " 'known',\n",
       " 'like',\n",
       " 'movies',\n",
       " 'ones',\n",
       " 'pass',\n",
       " 'time',\n",
       " 'way',\n",
       " 'ways']"
      ]
     },
     "execution_count": 34,
     "metadata": {},
     "output_type": "execute_result"
    }
   ],
   "source": [
    "tfidf_vectorizer.get_feature_names()"
   ]
  },
  {
   "cell_type": "code",
   "execution_count": 35,
   "metadata": {},
   "outputs": [],
   "source": [
    "tf_vectorizer = CountVectorizer(stop_words='english')\n",
    "tf = tf_vectorizer.fit_transform(corpus)"
   ]
  },
  {
   "cell_type": "code",
   "execution_count": 36,
   "metadata": {},
   "outputs": [
    {
     "data": {
      "text/plain": [
       "['america',\n",
       " 'australia',\n",
       " 'cricket',\n",
       " 'famous',\n",
       " 'football',\n",
       " 'games',\n",
       " 'great',\n",
       " 'hollywood',\n",
       " 'india',\n",
       " 'known',\n",
       " 'like',\n",
       " 'movies',\n",
       " 'ones',\n",
       " 'pass',\n",
       " 'time',\n",
       " 'way',\n",
       " 'ways']"
      ]
     },
     "execution_count": 36,
     "metadata": {},
     "output_type": "execute_result"
    }
   ],
   "source": [
    "tf_vectorizer.get_feature_names()"
   ]
  },
  {
   "cell_type": "code",
   "execution_count": 37,
   "metadata": {
    "collapsed": true
   },
   "outputs": [],
   "source": [
    "nmf = NMF().fit(tfidf)"
   ]
  },
  {
   "cell_type": "code",
   "execution_count": 38,
   "metadata": {
    "collapsed": true
   },
   "outputs": [],
   "source": [
    "features = tf_vectorizer.get_feature_names()"
   ]
  },
  {
   "cell_type": "code",
   "execution_count": null,
   "metadata": {
    "collapsed": true
   },
   "outputs": [],
   "source": []
  },
  {
   "cell_type": "code",
   "execution_count": 49,
   "metadata": {},
   "outputs": [
    {
     "name": "stdout",
     "output_type": "stream",
     "text": [
      "Topic#0 (cricket india australia famous)\n",
      "Topic#1 (ones ways pass time)\n",
      "Topic#2 (movies way great pass)\n",
      "Topic#3 (like football cricket games)\n",
      "Topic#4 (america known hollywood movies)\n",
      "Topic#5 (movies hollywood known america)\n",
      "Topic#6 (great way time pass)\n",
      "Topic#7 (ways time ones pass)\n",
      "Topic#8 (india australia famous cricket)\n",
      "Topic#9 (famous australia india cricket)\n",
      "Topic#10 (famous india australia cricket)\n",
      "Topic#11 (cricket like football games)\n",
      "Topic#12 (like football games cricket)\n",
      "Topic#13 (america known hollywood movies)\n",
      "Topic#14 (cricket games football like)\n",
      "Topic#15 (cricket like football games)\n",
      "Topic#16 (australia cricket india famous)\n"
     ]
    }
   ],
   "source": [
    "for topic_idx, topic in enumerate(nmf.components_):\n",
    "    topic_name = \"Topic#\" + str(topic_idx)\n",
    "    indexes = topic.argsort()[::-1][:4]\n",
    "    words = \" \".join(features[index] for index in indexes)\n",
    "    mapping = topic_name + \" (\" + words + \")\"\n",
    "    print(mapping)"
   ]
  },
  {
   "cell_type": "code",
   "execution_count": 44,
   "metadata": {},
   "outputs": [
    {
     "name": "stderr",
     "output_type": "stream",
     "text": [
      "C:\\Users\\Vipul\\Anaconda3\\lib\\site-packages\\sklearn\\decomposition\\online_lda.py:536: DeprecationWarning: The default value for 'learning_method' will be changed from 'online' to 'batch' in the release 0.20. This warning was introduced in 0.18.\n",
      "  DeprecationWarning)\n"
     ]
    },
    {
     "data": {
      "text/plain": [
       "LatentDirichletAllocation(batch_size=128, doc_topic_prior=None,\n",
       "             evaluate_every=-1, learning_decay=0.7, learning_method=None,\n",
       "             learning_offset=10.0, max_doc_update_iter=100, max_iter=10,\n",
       "             mean_change_tol=0.001, n_components=10, n_jobs=1,\n",
       "             n_topics=None, perp_tol=0.1, random_state=None,\n",
       "             topic_word_prior=None, total_samples=1000000.0, verbose=0)"
      ]
     },
     "execution_count": 44,
     "metadata": {},
     "output_type": "execute_result"
    }
   ],
   "source": [
    "lda = LatentDirichletAllocation()\n",
    "lda.fit(tfidf)"
   ]
  },
  {
   "cell_type": "code",
   "execution_count": 50,
   "metadata": {},
   "outputs": [
    {
     "name": "stdout",
     "output_type": "stream",
     "text": [
      "Topic#0 (ones ways pass time)\n",
      "Topic#1 (america hollywood known movies)\n",
      "Topic#2 (like football games cricket)\n",
      "Topic#3 (hollywood known india ones)\n",
      "Topic#4 (great way movies pass)\n",
      "Topic#5 (australia ways way time)\n",
      "Topic#6 (australia famous india cricket)\n",
      "Topic#7 (ways football australia famous)\n",
      "Topic#8 (cricket hollywood india america)\n",
      "Topic#9 (india cricket famous australia)\n"
     ]
    }
   ],
   "source": [
    "for topic_idx, topic in enumerate(lda.components_):\n",
    "    topic_name = \"Topic#\" + str(topic_idx)\n",
    "    indexes = topic.argsort()[::-1][:4]\n",
    "    words = \" \".join(features[index] for index in indexes)\n",
    "    mapping = topic_name + \" (\" + words + \")\"\n",
    "    print(mapping)"
   ]
  },
  {
   "cell_type": "code",
   "execution_count": null,
   "metadata": {
    "collapsed": true
   },
   "outputs": [],
   "source": []
  }
 ],
 "metadata": {
  "kernelspec": {
   "display_name": "Python 3",
   "language": "python",
   "name": "python3"
  },
  "language_info": {
   "codemirror_mode": {
    "name": "ipython",
    "version": 3
   },
   "file_extension": ".py",
   "mimetype": "text/x-python",
   "name": "python",
   "nbconvert_exporter": "python",
   "pygments_lexer": "ipython3",
   "version": "3.6.3"
  }
 },
 "nbformat": 4,
 "nbformat_minor": 2
}
