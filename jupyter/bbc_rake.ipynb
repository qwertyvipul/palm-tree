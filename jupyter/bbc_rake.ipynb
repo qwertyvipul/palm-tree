{
 "cells": [
  {
   "cell_type": "code",
   "execution_count": 4,
   "metadata": {},
   "outputs": [],
   "source": [
    "from rake_nltk import Rake"
   ]
  },
  {
   "cell_type": "code",
   "execution_count": 5,
   "metadata": {
    "collapsed": true
   },
   "outputs": [],
   "source": [
    "r = Rake()"
   ]
  },
  {
   "cell_type": "code",
   "execution_count": 15,
   "metadata": {
    "collapsed": true
   },
   "outputs": [],
   "source": [
    "f = open(\"../static/corpus/bbc/prep/business/001.txt\")"
   ]
  },
  {
   "cell_type": "code",
   "execution_count": 16,
   "metadata": {},
   "outputs": [
    {
     "data": {
      "text/plain": [
       "'ad sales boost time warner profit quarterly profits us media giant timewarner jumped seventy-six 113bn a600m three months december 639m yearearlier firm one biggest investors google benefited sales highspeed internet connections higher advert sales timewarner said fourth quarter sales rose two 111bn 109bn profits buoyed oneoff gains offset profit dip warner bros less users aol time warner said friday owns eight searchengine google internet business aol mixed fortunes lost four hundred and sixty-four thousand subscribers fourth quarter profits lower preceding three quarters however company said aol underlying profit exceptional items rose eight back stronger internet advertising revenues hopes increase subscribers offering online service free timewarner internet customers try sign aol existing customers highspeed broadband timewarner also restate two thousand two thousand and three results following probe us securities exchange commission sec close concluding time warner fourth quarter profits slightly better analysts expectations film division saw profits slump twenty-seven 284m helped boxoffice flops alexander catwoman sharp contrast yearearlier third final film lord rings trilogy boosted results fullyear timewarner posted profit 336bn twenty-seven two thousand and three performance revenues grew sixty-four 4209bn financial performance strong meeting exceeding fullyear objectives greatly enhancing flexibility chairman chief executive richard parsons said two thousand and five timewarner projecting operating earnings growth around five also expects higher revenue wider profit margins timewarner restate accounts part efforts resolve inquiry aol us market regulators already offered pay 300m settle charges deal review sec company said unable estimate amount needed set aside legal reserves previously set 500m intends adjust way accounts deal german music publisher bertelsmann purchase stake aol europe reported advertising revenue book sale stake aol europe loss value stake'"
      ]
     },
     "execution_count": 16,
     "metadata": {},
     "output_type": "execute_result"
    }
   ],
   "source": [
    "text = f.read()\n",
    "text"
   ]
  },
  {
   "cell_type": "code",
   "execution_count": 17,
   "metadata": {},
   "outputs": [],
   "source": [
    "r.extract_keywords_from_text(text)"
   ]
  },
  {
   "cell_type": "code",
   "execution_count": 19,
   "metadata": {},
   "outputs": [
    {
     "data": {
      "text/plain": [
       "['five timewarner projecting operating earnings growth around five also expects higher revenue wider profit margins timewarner restate accounts part efforts resolve inquiry aol us market regulators already offered pay 300m settle charges deal review sec company said unable estimate amount needed set aside legal reserves previously set 500m intends adjust way accounts deal german music publisher bertelsmann purchase stake aol europe reported advertising revenue book sale stake aol europe loss value stake',\n",
       " 'six 113bn a600m three months december 639m yearearlier firm one biggest investors google benefited sales highspeed internet connections higher advert sales timewarner said fourth quarter sales rose two 111bn 109bn profits buoyed oneoff gains offset profit dip warner bros less users aol time warner said friday owns eight searchengine google internet business aol mixed fortunes lost four hundred',\n",
       " 'four thousand subscribers fourth quarter profits lower preceding three quarters however company said aol underlying profit exceptional items rose eight back stronger internet advertising revenues hopes increase subscribers offering online service free timewarner internet customers try sign aol existing customers highspeed broadband timewarner also restate two thousand two thousand',\n",
       " 'three results following probe us securities exchange commission sec close concluding time warner fourth quarter profits slightly better analysts expectations film division saw profits slump twenty',\n",
       " 'seven 284m helped boxoffice flops alexander catwoman sharp contrast yearearlier third final film lord rings trilogy boosted results fullyear timewarner posted profit 336bn twenty',\n",
       " 'four 4209bn financial performance strong meeting exceeding fullyear objectives greatly enhancing flexibility chairman chief executive richard parsons said two thousand',\n",
       " 'ad sales boost time warner profit quarterly profits us media giant timewarner jumped seventy',\n",
       " 'seven two thousand',\n",
       " 'three performance revenues grew sixty',\n",
       " 'sixty']"
      ]
     },
     "execution_count": 19,
     "metadata": {},
     "output_type": "execute_result"
    }
   ],
   "source": [
    "r.get_ranked_phrases()"
   ]
  },
  {
   "cell_type": "code",
   "execution_count": 20,
   "metadata": {},
   "outputs": [
    {
     "data": {
      "text/plain": [
       "[(4944.990476190476,\n",
       "  'five timewarner projecting operating earnings growth around five also expects higher revenue wider profit margins timewarner restate accounts part efforts resolve inquiry aol us market regulators already offered pay 300m settle charges deal review sec company said unable estimate amount needed set aside legal reserves previously set 500m intends adjust way accounts deal german music publisher bertelsmann purchase stake aol europe reported advertising revenue book sale stake aol europe loss value stake'),\n",
       " (3092.4095238095238,\n",
       "  'six 113bn a600m three months december 639m yearearlier firm one biggest investors google benefited sales highspeed internet connections higher advert sales timewarner said fourth quarter sales rose two 111bn 109bn profits buoyed oneoff gains offset profit dip warner bros less users aol time warner said friday owns eight searchengine google internet business aol mixed fortunes lost four hundred'),\n",
       " (2351.4285714285716,\n",
       "  'four thousand subscribers fourth quarter profits lower preceding three quarters however company said aol underlying profit exceptional items rose eight back stronger internet advertising revenues hopes increase subscribers offering online service free timewarner internet customers try sign aol existing customers highspeed broadband timewarner also restate two thousand two thousand'),\n",
       " (789.3666666666667,\n",
       "  'three results following probe us securities exchange commission sec close concluding time warner fourth quarter profits slightly better analysts expectations film division saw profits slump twenty'),\n",
       " (627.1857142857142,\n",
       "  'seven 284m helped boxoffice flops alexander catwoman sharp contrast yearearlier third final film lord rings trilogy boosted results fullyear timewarner posted profit 336bn twenty'),\n",
       " (478.03333333333336,\n",
       "  'four 4209bn financial performance strong meeting exceeding fullyear objectives greatly enhancing flexibility chairman chief executive richard parsons said two thousand'),\n",
       " (380.2857142857143,\n",
       "  'ad sales boost time warner profit quarterly profits us media giant timewarner jumped seventy'),\n",
       " (83.3, 'seven two thousand'),\n",
       " (82.0, 'three performance revenues grew sixty'),\n",
       " (3.0, 'sixty')]"
      ]
     },
     "execution_count": 20,
     "metadata": {},
     "output_type": "execute_result"
    }
   ],
   "source": [
    "r.get_ranked_phrases_with_scores()"
   ]
  },
  {
   "cell_type": "code",
   "execution_count": null,
   "metadata": {
    "collapsed": true
   },
   "outputs": [],
   "source": []
  }
 ],
 "metadata": {
  "kernelspec": {
   "display_name": "Python 3",
   "language": "python",
   "name": "python3"
  },
  "language_info": {
   "codemirror_mode": {
    "name": "ipython",
    "version": 3
   },
   "file_extension": ".py",
   "mimetype": "text/x-python",
   "name": "python",
   "nbconvert_exporter": "python",
   "pygments_lexer": "ipython3",
   "version": "3.6.3"
  }
 },
 "nbformat": 4,
 "nbformat_minor": 2
}
